{
  "nbformat": 4,
  "nbformat_minor": 0,
  "metadata": {
    "colab": {
      "name": "think-week4-A108060040-2.ipynb",
      "provenance": [],
      "collapsed_sections": []
    },
    "kernelspec": {
      "name": "python3",
      "display_name": "Python 3"
    }
  },
  "cells": [
    {
      "cell_type": "code",
      "metadata": {
        "id": "qYlwUdwLa0MX",
        "colab_type": "code",
        "colab": {
          "base_uri": "https://localhost:8080/",
          "height": 54
        },
        "outputId": "86c802aa-c5e9-45e2-8f94-88cc8bb1d48b"
      },
      "source": [
        "print(\"Hello Word\")\n",
        "print(\"s=你好嗎\")"
      ],
      "execution_count": 2,
      "outputs": [
        {
          "output_type": "stream",
          "text": [
            "Hello Word\n",
            "s=你好嗎\n"
          ],
          "name": "stdout"
        }
      ]
    }
  ]
}