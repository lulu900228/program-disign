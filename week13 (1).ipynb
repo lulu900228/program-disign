{
  "nbformat": 4,
  "nbformat_minor": 0,
  "metadata": {
    "colab": {
      "name": "week13.ipynb",
      "provenance": []
    },
    "kernelspec": {
      "name": "python3",
      "display_name": "Python 3"
    }
  },
  "cells": [
    {
      "cell_type": "code",
      "metadata": {
        "id": "tSYM2lfs863c",
        "colab_type": "code",
        "colab": {
          "base_uri": "https://localhost:8080/",
          "height": 54
        },
        "outputId": "d0da44ce-46ca-482b-ae69-6ac8cbdad587"
      },
      "source": [
        "score=int(input(\"請輸入成績\"))\n",
        "if score < 60 :\n",
        "    print(\"要加油\")\n",
        "if 80 > score >=60:\n",
        "    print(\"不錯喔\")\n",
        "if score>=80:\n",
        "    print(\"非常好\")\n"
      ],
      "execution_count": 3,
      "outputs": [
        {
          "output_type": "stream",
          "text": [
            "請輸入成績85\n",
            "非常好\n"
          ],
          "name": "stdout"
        }
      ]
    }
  ]
}