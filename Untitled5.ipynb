{
  "nbformat": 4,
  "nbformat_minor": 0,
  "metadata": {
    "colab": {
      "name": "Untitled5.ipynb",
      "provenance": []
    },
    "kernelspec": {
      "name": "python3",
      "display_name": "Python 3"
    }
  },
  "cells": [
    {
      "cell_type": "code",
      "metadata": {
        "id": "j_HtvVI5qOYc",
        "colab_type": "code",
        "colab": {
          "base_uri": "https://localhost:8080/",
          "height": 145
        },
        "outputId": "2559b88c-b972-4e6f-c53b-4cfb09bb5cfd"
      },
      "source": [
        "hours=input(\"Enter movie time hour:\")\n",
        "minutes=input(\"Enter movie time minutes:\")\n",
        "hours=int(hours)\n",
        "minutes=int(minutes)\n",
        "length =hours*60+minutes #數學運算\n",
        "print(\"Hours\",minutes,\"Movie length is\",length)\n",
        "\n",
        "#123分鐘轉成2小時3分鐘\n",
        "#123分鐘 2小時\n",
        "hours1=length/60 #hours\n",
        "print(hours1)\n",
        "hours2=int(hours1)\n",
        "print(hours2)\n",
        "\n",
        "#123分鐘 3分鐘\n",
        "minutes1=(hours1-hours2)*60\n",
        "minutes2=round(minutes1) #四捨五入\n",
        "\n",
        "print(minutes2)\n",
        "print(length,\"Minutes equals\",hours2, \"Hours\",minutes2,\"Minutes\")\n",
        "\n"
      ],
      "execution_count": 7,
      "outputs": [
        {
          "output_type": "stream",
          "text": [
            "Enter movie time hour:2\n",
            "Enter movie time minutes:3\n",
            "Hours 3 Movie length is 123\n",
            "2.05\n",
            "2\n",
            "3\n",
            "123 Minutes equals 2 Hours 3 Minutes\n"
          ],
          "name": "stdout"
        }
      ]
    }
  ]
}