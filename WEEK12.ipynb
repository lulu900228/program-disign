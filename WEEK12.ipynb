{
  "nbformat": 4,
  "nbformat_minor": 0,
  "metadata": {
    "colab": {
      "name": "WEEK12.ipynb",
      "provenance": []
    },
    "kernelspec": {
      "name": "python3",
      "display_name": "Python 3"
    }
  },
  "cells": [
    {
      "cell_type": "code",
      "metadata": {
        "id": "EqO9MR_w5EpA",
        "colab_type": "code",
        "colab": {
          "base_uri": "https://localhost:8080/",
          "height": 72
        },
        "outputId": "bba9d764-1916-4c00-c710-7999dcdb99c8"
      },
      "source": [
        "noodle=input(\"有麵嗎? YES or NO\")\n",
        "sauce=input(\"有醬料嗎?YES or NO\")\n",
        "if noodle==\"YES\" and sauce==\"YES\":\n",
        "    print(\"今天晚上吃義大利麵\")"
      ],
      "execution_count": 3,
      "outputs": [
        {
          "output_type": "stream",
          "text": [
            "有麵嗎? YES or NOYES\n",
            "有醬料嗎?YES or NOYES\n",
            "今天晚上吃義大利麵\n"
          ],
          "name": "stdout"
        }
      ]
    }
  ]
}