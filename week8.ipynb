{
  "nbformat": 4,
  "nbformat_minor": 0,
  "metadata": {
    "colab": {
      "name": "week8.ipynb",
      "provenance": []
    },
    "kernelspec": {
      "name": "python3",
      "display_name": "Python 3"
    }
  },
  "cells": [
    {
      "cell_type": "code",
      "metadata": {
        "id": "BOUiGA0Q_pLv",
        "colab_type": "code",
        "colab": {
          "base_uri": "https://localhost:8080/",
          "height": 136
        },
        "outputId": "3910bcaa-90b5-41ff-e52a-e2cc28064af0"
      },
      "source": [
        "hours=input(\"Enter movie time hour:\")\n",
        "minutes=input(\"Enter movie time minutes:\")\n",
        "hours=int(hours)\n",
        "minutes=int(minutes)\n",
        "length =hours*60+minutes #數學運算\n",
        "print(\"Hours\",minutes,\"Movie length is\",length)\n",
        "\n",
        "#133分鐘轉成2小時13分鐘\n",
        "#133分鐘 2小時\n",
        "hours1=length/60 #hours\n",
        "print(hours1)\n",
        "hours2=int(hours1)\n",
        "print(hours2)\n",
        "\n",
        "#133分鐘 13分鐘\n",
        "minutes1=(hours1-hours2)*60\n",
        "minutes2=round(minutes1) #四捨五入\n",
        "\n",
        "print(minutes2)\n",
        "print(length,\"Minutes equals\",hours2, \"Hours\",minutes2,\"Minutes\")"
      ],
      "execution_count": 1,
      "outputs": [
        {
          "output_type": "stream",
          "text": [
            "Enter movie time hour:2\n",
            "Enter movie time minutes:13\n",
            "Hours 13 Movie length is 133\n",
            "2.216666666666667\n",
            "2\n",
            "13\n",
            "133 Minutes equals 2 Hours 13 Minutes\n"
          ],
          "name": "stdout"
        }
      ]
    },
    {
      "cell_type": "code",
      "metadata": {
        "id": "9-81xYXJ_yL9",
        "colab_type": "code",
        "colab": {}
      },
      "source": [
        ""
      ],
      "execution_count": 0,
      "outputs": []
    }
  ]
}