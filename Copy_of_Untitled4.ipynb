{
  "nbformat": 4,
  "nbformat_minor": 0,
  "metadata": {
    "colab": {
      "name": "Copy of Untitled4.ipynb",
      "provenance": [],
      "collapsed_sections": []
    },
    "kernelspec": {
      "name": "python3",
      "display_name": "Python 3"
    }
  },
  "cells": [
    {
      "cell_type": "code",
      "metadata": {
        "id": "JKklm69uqss3",
        "colab_type": "code",
        "outputId": "444e5d47-23f3-4f85-a900-7882a6da20b8",
        "colab": {
          "base_uri": "https://localhost:8080/",
          "height": 170
        }
      },
      "source": [
        "print(\"drama_title 梨泰院\")\n",
        "print(\"release_year 2020\")\n",
        "print(\"episod 16\")\n",
        "print(\"drama_rating 97 \")\n",
        "print(\"director 金成允和姜敏九\")\n",
        "print(\"astars_1 朴敘俊\")\n",
        "print(\"stars_2 金多美\")\n",
        "print(\"stars_3 權娜拉\")\n",
        "print(\"stars_4 劉在明\")"
      ],
      "execution_count": 6,
      "outputs": [
        {
          "output_type": "stream",
          "text": [
            "drama_title 梨泰院\n",
            "release_year 2020\n",
            "episod 16\n",
            "drama_rating 97 \n",
            "director 金成允和姜敏九\n",
            "astars_1 朴敘俊\n",
            "stars_2 金多美\n",
            "stars_3 權娜拉\n",
            "stars_4 劉在明\n"
          ],
          "name": "stdout"
        }
      ]
    },
    {
      "cell_type": "code",
      "metadata": {
        "id": "wEcN0ILI2O_8",
        "colab_type": "code",
        "colab": {}
      },
      "source": [
        ""
      ],
      "execution_count": 0,
      "outputs": []
    }
  ]
}